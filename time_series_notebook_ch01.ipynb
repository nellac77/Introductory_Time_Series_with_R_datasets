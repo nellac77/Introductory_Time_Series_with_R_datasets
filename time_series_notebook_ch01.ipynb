{
 "cells": [
  {
   "cell_type": "markdown",
   "metadata": {},
   "source": [
    "# Time Series Analysis with R - Chapter 1\n",
    "\n",
    "## This notebook is a walkthrough of *Introductory Time Series with R* by Paul S.P. Cowpertwait and Andrew V. Metcalf (Springer, 2009). We will explore the examples presented in the text with comments about each, providing a high-level overview of the concepts presented. This notebook will also contain *some* of the problems presented at the end of each chapter, though may not include solutions.\n",
    "\n",
    "## Enjoy!\n",
    "\n",
    "### Cal Johnson\n",
    "#### Analytics Engineer\n",
    "#### AO AAE, USCC"
   ]
  },
  {
   "cell_type": "markdown",
   "metadata": {},
   "source": [
    "## Chapter 1 - Time Series Data\n",
    "\n",
    "*Time series anlysis* attempts to quantify main features of a data set and its stochastic variation.\n",
    "\n",
    "Following along with the book, we see the classic example of a function that calculates factorials recursively, implemented, as with everything in this book and notebook, in *R*:"
   ]
  },
  {
   "cell_type": "code",
   "execution_count": 1,
   "metadata": {},
   "outputs": [],
   "source": [
    "fact <- function(n) if (n==1) 1 else n * fact(n-1)"
   ]
  },
  {
   "cell_type": "markdown",
   "metadata": {},
   "source": [
    "And to test in the case that we wish to know what 11! is:"
   ]
  },
  {
   "cell_type": "code",
   "execution_count": 2,
   "metadata": {},
   "outputs": [
    {
     "data": {
      "text/html": [
       "<ol class=list-inline>\n",
       "\t<li>'39916800'</li>\n",
       "\t<li>'Booyah!'</li>\n",
       "</ol>\n"
      ],
      "text/latex": [
       "\\begin{enumerate*}\n",
       "\\item '39916800'\n",
       "\\item 'Booyah!'\n",
       "\\end{enumerate*}\n"
      ],
      "text/markdown": [
       "1. '39916800'\n",
       "2. 'Booyah!'\n",
       "\n",
       "\n"
      ],
      "text/plain": [
       "[1] \"39916800\" \"Booyah!\" "
      ]
     },
     "metadata": {},
     "output_type": "display_data"
    }
   ],
   "source": [
    "c(fact(11), \"Booyah!\")"
   ]
  },
  {
   "cell_type": "markdown",
   "metadata": {},
   "source": [
    "Data in R are stored in objects, which is useful to us as the language provides an extensive number of methods to work with, and manipulate, these data objects. In the below example, we will load the AirPassengers data set using data(), and save this data set to the variable AP. Once this is done, we will ask R to tell us the class of the AP object to verify that is is a time series (\"ts\") data set with class(), and then we'll have a look at the data set."
   ]
  },
  {
   "cell_type": "code",
   "execution_count": 3,
   "metadata": {},
   "outputs": [
    {
     "data": {
      "text/html": [
       "'ts'"
      ],
      "text/latex": [
       "'ts'"
      ],
      "text/markdown": [
       "'ts'"
      ],
      "text/plain": [
       "[1] \"ts\""
      ]
     },
     "metadata": {},
     "output_type": "display_data"
    },
    {
     "data": {
      "text/plain": [
       "     Jan Feb Mar Apr May Jun Jul Aug Sep Oct Nov Dec\n",
       "1949 112 118 132 129 121 135 148 148 136 119 104 118\n",
       "1950 115 126 141 135 125 149 170 170 158 133 114 140\n",
       "1951 145 150 178 163 172 178 199 199 184 162 146 166\n",
       "1952 171 180 193 181 183 218 230 242 209 191 172 194\n",
       "1953 196 196 236 235 229 243 264 272 237 211 180 201\n",
       "1954 204 188 235 227 234 264 302 293 259 229 203 229\n",
       "1955 242 233 267 269 270 315 364 347 312 274 237 278\n",
       "1956 284 277 317 313 318 374 413 405 355 306 271 306\n",
       "1957 315 301 356 348 355 422 465 467 404 347 305 336\n",
       "1958 340 318 362 348 363 435 491 505 404 359 310 337\n",
       "1959 360 342 406 396 420 472 548 559 463 407 362 405\n",
       "1960 417 391 419 461 472 535 622 606 508 461 390 432"
      ]
     },
     "metadata": {},
     "output_type": "display_data"
    }
   ],
   "source": [
    "data(AirPassengers)  # load the data set\n",
    "AP <- AirPassengers  # save data set to variable\n",
    "class(AP)  # see what class AP is\n",
    "AP # Have a look at the data set"
   ]
  },
  {
   "cell_type": "markdown",
   "metadata": {},
   "source": [
    "Since this is a time series, or ts, class object, we have some useful methods available to us. A few examples are the start(), end(), and frequency() methods:"
   ]
  },
  {
   "cell_type": "code",
   "execution_count": 4,
   "metadata": {},
   "outputs": [
    {
     "data": {
      "text/html": [
       "<ol class=list-inline>\n",
       "\t<li>1949</li>\n",
       "\t<li>1</li>\n",
       "</ol>\n"
      ],
      "text/latex": [
       "\\begin{enumerate*}\n",
       "\\item 1949\n",
       "\\item 1\n",
       "\\end{enumerate*}\n"
      ],
      "text/markdown": [
       "1. 1949\n",
       "2. 1\n",
       "\n",
       "\n"
      ],
      "text/plain": [
       "[1] 1949    1"
      ]
     },
     "metadata": {},
     "output_type": "display_data"
    },
    {
     "data": {
      "text/html": [
       "<ol class=list-inline>\n",
       "\t<li>1960</li>\n",
       "\t<li>12</li>\n",
       "</ol>\n"
      ],
      "text/latex": [
       "\\begin{enumerate*}\n",
       "\\item 1960\n",
       "\\item 12\n",
       "\\end{enumerate*}\n"
      ],
      "text/markdown": [
       "1. 1960\n",
       "2. 12\n",
       "\n",
       "\n"
      ],
      "text/plain": [
       "[1] 1960   12"
      ]
     },
     "metadata": {},
     "output_type": "display_data"
    },
    {
     "data": {
      "text/html": [
       "12"
      ],
      "text/latex": [
       "12"
      ],
      "text/markdown": [
       "12"
      ],
      "text/plain": [
       "[1] 12"
      ]
     },
     "metadata": {},
     "output_type": "display_data"
    }
   ],
   "source": [
    "start(AP); end(AP); frequency(AP)\n"
   ]
  },
  {
   "cell_type": "markdown",
   "metadata": {},
   "source": [
    "We now know that this time series begins in January of 1949, ends in Decmber of 1960, and each record apears in monthly intervals."
   ]
  },
  {
   "cell_type": "markdown",
   "metadata": {},
   "source": [
    "One of the first tests to employ with any time series analysis is that of the *Interoccular Trauma Examination*, or simply *looking* at a plot of the data:"
   ]
  },
  {
   "cell_type": "code",
   "execution_count": 5,
   "metadata": {},
   "outputs": [
    {
     "data": {
      "image/png": "[encoded data removed]",
      "text/plain": [
       "plot without title"
      ]
     },
     "metadata": {},
     "output_type": "display_data"
    }
   ],
   "source": [
    "plot(AP, ylab = \"Passengers (1000's)\")"
   ]
  },
  {
   "cell_type": "markdown",
   "metadata": {},
   "source": [
    "A few things to note about this plot:\n",
    "\n",
    "+ The number of passengers on the airline is going up\n",
    "+ There appears to be a pattern within each year\n",
    "\n",
    "The first observation, a systematic change in a time series that doesn't seem periodic is called a *trend*. The second is a *seasonal variation* and is a pattern that repeats within a fixed period (hence it seems periodic). This seasonal variation may be removed by aggregating the data to a different level. Here we aggregate to the annual level to remove the periodic observation with the aggregate() function:"
   ]
  },
  {
   "cell_type": "code",
   "execution_count": 6,
   "metadata": {},
   "outputs": [
    {
     "data": {
      "image/png": "[encoded data removed]",
      "text/plain": [
       "plot without title"
      ]
     },
     "metadata": {},
     "output_type": "display_data"
    }
   ],
   "source": [
    "layout(1:2) # about to produce two graphics in one window, vector/matrix input for layout\n",
    "plot(aggregate(AP))  # show the time series aggregated to the annual level\n",
    "boxplot(AP ~ cycle(AP))  # summarize values of each seaon with boxplot, use cycle function toextract the seasons from each item of data"
   ]
  },
  {
   "cell_type": "markdown",
   "metadata": {},
   "source": [
    "We can see the growing trend in the top plot, and the seasonal effects in the boxplot."
   ]
  },
  {
   "cell_type": "markdown",
   "metadata": {},
   "source": [
    "When performing a time series analysis, you should know how the data was collected and their unit of measurement. Knowing this allows you to do more with your analysis. Take the unemployment dat for Maine, below:"
   ]
  },
  {
   "cell_type": "code",
   "execution_count": 7,
   "metadata": {},
   "outputs": [
    {
     "data": {
      "text/html": [
       "'data.frame'"
      ],
      "text/latex": [
       "'data.frame'"
      ],
      "text/markdown": [
       "'data.frame'"
      ],
      "text/plain": [
       "[1] \"data.frame\""
      ]
     },
     "metadata": {},
     "output_type": "display_data"
    }
   ],
   "source": [
    "www <- \"Maine.dat\"  # assign the data file to variable www\n",
    "Maine.month <- read.table(www, header = TRUE)  # read in the data file, knowing the first row is header info\n",
    "\n",
    "attach(Maine.month)  # attach to R search path for variables here can be accessed by their names\n",
    "class(Maine.month)  # should see data frame nistead of ts"
   ]
  },
  {
   "cell_type": "code",
   "execution_count": 8,
   "metadata": {},
   "outputs": [],
   "source": [
    "Maine.month.ts <- ts(unemploy, start = c(1996,1), frequency = 12)  # convert unemploy vairable to ts"
   ]
  },
  {
   "cell_type": "markdown",
   "metadata": {},
   "source": [
    "Note that this uses all the data, but we could be more selctive by choosing a different start date and even using the the *end* parameter."
   ]
  },
  {
   "cell_type": "code",
   "execution_count": 9,
   "metadata": {},
   "outputs": [],
   "source": [
    "Maine.annual.ts <- aggregate(Maine.month.ts)/12  # mean annual rate"
   ]
  },
  {
   "cell_type": "code",
   "execution_count": 10,
   "metadata": {},
   "outputs": [
    {
     "data": {
      "image/png": "[encoded data removed]",
      "text/plain": [
       "plot without title"
      ]
     },
     "metadata": {},
     "output_type": "display_data"
    }
   ],
   "source": [
    "layout(1:2)\n",
    "plot(Maine.month.ts, ylab = \"unemployed %\")\n",
    "plot(Maine.annual.ts, ylab = \"unemployed %\")"
   ]
  },
  {
   "cell_type": "markdown",
   "metadata": {},
   "source": [
    "Plotting at these two levels clearly indicates there is a monthly variation, and we can calculate the percentage of a specific month using the window() function:"
   ]
  },
  {
   "cell_type": "code",
   "execution_count": 11,
   "metadata": {},
   "outputs": [
    {
     "data": {
      "text/html": [
       "1.22252895446613"
      ],
      "text/latex": [
       "1.22252895446613"
      ],
      "text/markdown": [
       "1.22252895446613"
      ],
      "text/plain": [
       "[1] 1.222529"
      ]
     },
     "metadata": {},
     "output_type": "display_data"
    },
    {
     "data": {
      "text/html": [
       "0.816373155640171"
      ],
      "text/latex": [
       "0.816373155640171"
      ],
      "text/markdown": [
       "0.816373155640171"
      ],
      "text/plain": [
       "[1] 0.8163732"
      ]
     },
     "metadata": {},
     "output_type": "display_data"
    }
   ],
   "source": [
    "Maine.Feb <- window(Maine.month.ts, start = c(1996,2), freq = TRUE)  # values for February\n",
    "Maine.Aug <- window(Maine.month.ts, start = c(1996,8), freq = TRUE)  # values for August\n",
    "\n",
    "Feb.ratio <- mean(Maine.Feb)/mean(Maine.month.ts)  # ratio for February\n",
    "Aug.ratio <- mean(Maine.Aug)/mean(Maine.month.ts)  # ratio for August\n",
    "\n",
    "Feb.ratio\n",
    "Aug.ratio"
   ]
  },
  {
   "cell_type": "markdown",
   "metadata": {},
   "source": [
    "These values allow us to begin a deper dive inot possible contributors to this variation, noting that unemployment is about 22% higher in February and about 18% lower in August. It is important to consider these different ways to view time series data, as samping only in August, versus the yearly averages, we would have underestimated unemployment by a factor of 0.816.\n",
    "\n",
    "A good analyst may want to keep asking questions, and rightfully so, it is the nature of an analyst! Now that we have the unemployment information for Maine, what does the nation's unemployment look like? Are there similar trends? Is what is happening in Maine reflected on a national scale? Let's review some calls in R for the US unemployment:"
   ]
  },
  {
   "cell_type": "code",
   "execution_count": 12,
   "metadata": {},
   "outputs": [
    {
     "data": {
      "image/png": "[encoded data removed]",
      "text/plain": [
       "plot without title"
      ]
     },
     "metadata": {},
     "output_type": "display_data"
    }
   ],
   "source": [
    "www <- \"USunemp.dat\"\n",
    "US.month <- read.table(www, header = TRUE)\n",
    "attach(US.month)\n",
    "US.month.ts <- ts(USun, start = c(1996,1), end = c(2006, 10), freq = 12)\n",
    "plot(US.month.ts, ylab = \"unemployment %\")"
   ]
  },
  {
   "cell_type": "markdown",
   "metadata": {},
   "source": [
    "We now look at multiple time series from Australia's chocolate (tonnes), beer (Ml) and electricity (kWh) monthly supply from January 1958 to December 1990."
   ]
  },
  {
   "cell_type": "code",
   "execution_count": 14,
   "metadata": {},
   "outputs": [
    {
     "data": {
      "text/html": [
       "'data.frame'"
      ],
      "text/latex": [
       "'data.frame'"
      ],
      "text/markdown": [
       "'data.frame'"
      ],
      "text/plain": [
       "[1] \"data.frame\""
      ]
     },
     "metadata": {},
     "output_type": "display_data"
    },
    {
     "data": {
      "text/html": [
       "<table>\n",
       "<thead><tr><th scope=col>choc</th><th scope=col>beer</th><th scope=col>elec</th></tr></thead>\n",
       "<tbody>\n",
       "\t<tr><td>1451</td><td>96.3</td><td>1497</td></tr>\n",
       "\t<tr><td>2037</td><td>84.4</td><td>1463</td></tr>\n",
       "\t<tr><td>2477</td><td>91.2</td><td>1648</td></tr>\n",
       "\t<tr><td>2785</td><td>81.9</td><td>1595</td></tr>\n",
       "\t<tr><td>2994</td><td>80.5</td><td>1777</td></tr>\n",
       "\t<tr><td>2681</td><td>70.4</td><td>1824</td></tr>\n",
       "</tbody>\n",
       "</table>\n"
      ],
      "text/latex": [
       "\\begin{tabular}{r|lll}\n",
       " choc & beer & elec\\\\\n",
       "\\hline\n",
       "\t 1451 & 96.3 & 1497\\\\\n",
       "\t 2037 & 84.4 & 1463\\\\\n",
       "\t 2477 & 91.2 & 1648\\\\\n",
       "\t 2785 & 81.9 & 1595\\\\\n",
       "\t 2994 & 80.5 & 1777\\\\\n",
       "\t 2681 & 70.4 & 1824\\\\\n",
       "\\end{tabular}\n"
      ],
      "text/markdown": [
       "\n",
       "choc | beer | elec | \n",
       "|---|---|---|---|---|---|\n",
       "| 1451 | 96.3 | 1497 | \n",
       "| 2037 | 84.4 | 1463 | \n",
       "| 2477 | 91.2 | 1648 | \n",
       "| 2785 | 81.9 | 1595 | \n",
       "| 2994 | 80.5 | 1777 | \n",
       "| 2681 | 70.4 | 1824 | \n",
       "\n",
       "\n"
      ],
      "text/plain": [
       "  choc beer elec\n",
       "1 1451 96.3 1497\n",
       "2 2037 84.4 1463\n",
       "3 2477 91.2 1648\n",
       "4 2785 81.9 1595\n",
       "5 2994 80.5 1777\n",
       "6 2681 70.4 1824"
      ]
     },
     "metadata": {},
     "output_type": "display_data"
    }
   ],
   "source": [
    "www <- \"cbe.dat\"\n",
    "CBE <- read.table(www, header = TRUE)\n",
    "class(CBE)\n",
    "head(CBE)"
   ]
  },
  {
   "cell_type": "markdown",
   "metadata": {},
   "source": [
    "Now that the data is available for us in a data frame, we will make a time series object from it, remembering that using the end parameter means R will use all the data in the vector, and leaving out the month in start forces R to assume the default value of 1.  To visualize the data, we can use cbind() within plot to see them all at once."
   ]
  },
  {
   "cell_type": "code",
   "execution_count": 15,
   "metadata": {},
   "outputs": [
    {
     "data": {
      "image/png": "[encoded data removed]",
      "text/plain": [
       "plot without title"
      ]
     },
     "metadata": {},
     "output_type": "display_data"
    }
   ],
   "source": [
    "Elec.ts <- ts(CBE[,3], start = 1958, freq = 12)\n",
    "Beer.ts <- ts(CBE[,2], start = 1958, freq = 12)\n",
    "Choc.ts <- ts(CBE[,1], start = 1958, freq = 12)\n",
    "plot(cbind(Elec.ts,Beer.ts,Choc.ts))"
   ]
  },
  {
   "cell_type": "markdown",
   "metadata": {},
   "source": [
    "R also has some handy tools for dealing with multiple time series, and we will use one, ts.intersect, to see explore a pitfall of analysing multiple time series. We will look at the intersetion between the air passenger data and the electricity data:"
   ]
  },
  {
   "cell_type": "code",
   "execution_count": 17,
   "metadata": {},
   "outputs": [
    {
     "data": {
      "text/html": [
       "<ol class=list-inline>\n",
       "\t<li>1958</li>\n",
       "\t<li>1</li>\n",
       "</ol>\n"
      ],
      "text/latex": [
       "\\begin{enumerate*}\n",
       "\\item 1958\n",
       "\\item 1\n",
       "\\end{enumerate*}\n"
      ],
      "text/markdown": [
       "1. 1958\n",
       "2. 1\n",
       "\n",
       "\n"
      ],
      "text/plain": [
       "[1] 1958    1"
      ]
     },
     "metadata": {},
     "output_type": "display_data"
    },
    {
     "data": {
      "text/html": [
       "<ol class=list-inline>\n",
       "\t<li>1958</li>\n",
       "\t<li>1</li>\n",
       "</ol>\n"
      ],
      "text/latex": [
       "\\begin{enumerate*}\n",
       "\\item 1958\n",
       "\\item 1\n",
       "\\end{enumerate*}\n"
      ],
      "text/markdown": [
       "1. 1958\n",
       "2. 1\n",
       "\n",
       "\n"
      ],
      "text/plain": [
       "[1] 1958    1"
      ]
     },
     "metadata": {},
     "output_type": "display_data"
    },
    {
     "data": {
      "text/html": [
       "<table>\n",
       "<thead><tr><th scope=col>AP</th><th scope=col>Elec.ts</th></tr></thead>\n",
       "<tbody>\n",
       "\t<tr><td>340 </td><td>1497</td></tr>\n",
       "\t<tr><td>318 </td><td>1463</td></tr>\n",
       "\t<tr><td>362 </td><td>1648</td></tr>\n",
       "\t<tr><td>348 </td><td>1595</td></tr>\n",
       "\t<tr><td>363 </td><td>1777</td></tr>\n",
       "\t<tr><td>435 </td><td>1824</td></tr>\n",
       "</tbody>\n",
       "</table>\n"
      ],
      "text/latex": [
       "\\begin{tabular}{ll}\n",
       " AP & Elec.ts\\\\\n",
       "\\hline\n",
       "\t 340  & 1497\\\\\n",
       "\t 318  & 1463\\\\\n",
       "\t 362  & 1648\\\\\n",
       "\t 348  & 1595\\\\\n",
       "\t 363  & 1777\\\\\n",
       "\t 435  & 1824\\\\\n",
       "\\end{tabular}\n"
      ],
      "text/markdown": [
       "\n",
       "AP | Elec.ts | \n",
       "|---|---|---|---|---|---|\n",
       "| 340  | 1497 | \n",
       "| 318  | 1463 | \n",
       "| 362  | 1648 | \n",
       "| 348  | 1595 | \n",
       "| 363  | 1777 | \n",
       "| 435  | 1824 | \n",
       "\n",
       "\n"
      ],
      "text/plain": [
       "     AP  Elec.ts\n",
       "[1,] 340 1497   \n",
       "[2,] 318 1463   \n",
       "[3,] 362 1648   \n",
       "[4,] 348 1595   \n",
       "[5,] 363 1777   \n",
       "[6,] 435 1824   "
      ]
     },
     "metadata": {},
     "output_type": "display_data"
    }
   ],
   "source": [
    "AP.elec <- ts.intersect(AP, Elec.ts)  # get intersection between the two series\n",
    "start(AP.elec)  # checking numbers with text book\n",
    "start(AP.elec)  # checking numbers with text book\n",
    "head(AP.elec)  # checking numbers with text book"
   ]
  },
  {
   "cell_type": "code",
   "execution_count": 19,
   "metadata": {},
   "outputs": [
    {
     "data": {
      "image/png": "[encoded data removed]",
      "text/plain": [
       "Plot with title \"\""
      ]
     },
     "metadata": {},
     "output_type": "display_data"
    }
   ],
   "source": [
    "# Now plotting\n",
    "AP <- AP.elec[,1]\n",
    "Elec <- AP.elec[,2]\n",
    "\n",
    "layout(1:2)\n",
    "plot(AP, main = \"\", ylab = \"Air passengers / 1000's\")\n",
    "plot(Elec, main = \"\", ylab = \"Electricity production / MkWh\")"
   ]
  },
  {
   "cell_type": "code",
   "execution_count": 31,
   "metadata": {},
   "outputs": [
    {
     "data": {
      "text/html": [
       "'Correlation coefficient: 0.884167'"
      ],
      "text/latex": [
       "'Correlation coefficient: 0.884167'"
      ],
      "text/markdown": [
       "'Correlation coefficient: 0.884167'"
      ],
      "text/plain": [
       "[1] \"Correlation coefficient: 0.884167\""
      ]
     },
     "metadata": {},
     "output_type": "display_data"
    },
    {
     "data": {
      "image/png": "[encoded data removed]",
      "text/plain": [
       "plot without title"
      ]
     },
     "metadata": {},
     "output_type": "display_data"
    }
   ],
   "source": [
    "plot(as.vector(AP), as.vector(Elec),  # to convert the ts object to a vector for scatter plot\n",
    "    xlab = \"Air passengers / 1000's\",\n",
    "    ylab = \"Eelctricity production / MWh\")\n",
    "abline(reg = lm(Elec ~ AP))  # linear regression line in plot\n",
    "corr.coeff <- cor(AP,Elec)\n",
    "sprintf(\"Correlation coefficient: %f\", corr.coeff)  # print out the correlation coefficient"
   ]
  },
  {
   "cell_type": "markdown",
   "metadata": {},
   "source": [
    "Notice that, by the correlation coefficient the two time series are highly correlated. However, we are reminded of a rule in statistics: correlation does not imply causation. For this plot, it is not plausible that grwoing numbers of US air passengers is causing, nor caused by, growing production of electricity in Australia.\n",
    "\n",
    "Now we shift focus to a brief look at financial data, which can sometimes offer us a dramatic change that can be explained by some major event, while day-to-day variations are caused by complex reasons that are impossible to isolate.\n",
    "\n",
    "The data we will explore here will be exchange rates for the British pounds sterling and the New Zealand dollar from January 1991 to March 2000. This data are mean values taken over quarterly periods of three months, with Q1 being from January to March. Let's read them in and make them into a time series object."
   ]
  },
  {
   "cell_type": "code",
   "execution_count": null,
   "metadata": {},
   "outputs": [],
   "source": []
  }
 ],
 "metadata": {
  "anaconda-cloud": {},
  "kernelspec": {
   "display_name": "R",
   "language": "R",
   "name": "ir"
  },
  "language_info": {
   "codemirror_mode": "r",
   "file_extension": ".r",
   "mimetype": "text/x-r-source",
   "name": "R",
   "pygments_lexer": "r",
   "version": "3.4.3"
  }
 },
 "nbformat": 4,
 "nbformat_minor": 2
}
