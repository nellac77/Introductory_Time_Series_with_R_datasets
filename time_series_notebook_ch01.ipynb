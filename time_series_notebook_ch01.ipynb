{
 "cells": [
  {
   "cell_type": "markdown",
   "metadata": {},
   "source": [
    "# Time Series Analysis with R - Chapter 1\n",
    "\n",
    "## This notebook is a walkthrough of *Introductory Time Series with R* by Paul S.P. Cowpertwait and Andrew V. Metcalf (Springer, 2009). We will explore the examples presented in the text with comments about each, providing a high-level overview of the concepts presented. This notebook will also contain *some* of the problems presented at the end of each chapter, though may not include solutions.\n",
    "\n",
    "## Enjoy!\n",
    "\n",
    "### Cal Johnson\n",
    "#### Analytics Engineer\n",
    "#### AO AAE, USCC"
   ]
  },
  {
   "cell_type": "markdown",
   "metadata": {},
   "source": [
    "## Chapter 1 - Time Series Data\n",
    "\n",
    "*Time series anlysis* attempts to quantify main features of a data set and its stochastic variation.\n",
    "\n",
    "Following along with the book, we see the classic example of a function that calculates factorials recursively, implemented, as with everything in this book and notebook, in *R*:"
   ]
  },
  {
   "cell_type": "code",
   "execution_count": 2,
   "metadata": {},
   "outputs": [],
   "source": [
    "fact <- function(n) if (n==1) 1 else n * fact(n-1)"
   ]
  },
  {
   "cell_type": "markdown",
   "metadata": {},
   "source": [
    "And to test in the case that we wish to know what 11! is:"
   ]
  },
  {
   "cell_type": "code",
   "execution_count": 3,
   "metadata": {},
   "outputs": [
    {
     "data": {
      "text/html": [
       "<ol class=list-inline>\n",
       "\t<li>'39916800'</li>\n",
       "\t<li>'Booyah!'</li>\n",
       "</ol>\n"
      ],
      "text/latex": [
       "\\begin{enumerate*}\n",
       "\\item '39916800'\n",
       "\\item 'Booyah!'\n",
       "\\end{enumerate*}\n"
      ],
      "text/markdown": [
       "1. '39916800'\n",
       "2. 'Booyah!'\n",
       "\n",
       "\n"
      ],
      "text/plain": [
       "[1] \"39916800\" \"Booyah!\" "
      ]
     },
     "metadata": {},
     "output_type": "display_data"
    }
   ],
   "source": [
    "c(fact(11), \"Booyah!\")"
   ]
  },
  {
   "cell_type": "markdown",
   "metadata": {},
   "source": [
    "Data in R are stored in objects, which is useful to us as the language provides an extensive number of methods to work with, and manipulate, these data objects. In the below example, we will load the AirPassengers data set using data(), and save this data set to the variable AP. Once this is done, we will ask R to tell us the class of the AP object to verify that is is a time series (\"ts\") data set with class(), and then we'll have a look at the data set."
   ]
  },
  {
   "cell_type": "code",
   "execution_count": 4,
   "metadata": {},
   "outputs": [
    {
     "data": {
      "text/html": [
       "'ts'"
      ],
      "text/latex": [
       "'ts'"
      ],
      "text/markdown": [
       "'ts'"
      ],
      "text/plain": [
       "[1] \"ts\""
      ]
     },
     "metadata": {},
     "output_type": "display_data"
    },
    {
     "data": {
      "text/plain": [
       "     Jan Feb Mar Apr May Jun Jul Aug Sep Oct Nov Dec\n",
       "1949 112 118 132 129 121 135 148 148 136 119 104 118\n",
       "1950 115 126 141 135 125 149 170 170 158 133 114 140\n",
       "1951 145 150 178 163 172 178 199 199 184 162 146 166\n",
       "1952 171 180 193 181 183 218 230 242 209 191 172 194\n",
       "1953 196 196 236 235 229 243 264 272 237 211 180 201\n",
       "1954 204 188 235 227 234 264 302 293 259 229 203 229\n",
       "1955 242 233 267 269 270 315 364 347 312 274 237 278\n",
       "1956 284 277 317 313 318 374 413 405 355 306 271 306\n",
       "1957 315 301 356 348 355 422 465 467 404 347 305 336\n",
       "1958 340 318 362 348 363 435 491 505 404 359 310 337\n",
       "1959 360 342 406 396 420 472 548 559 463 407 362 405\n",
       "1960 417 391 419 461 472 535 622 606 508 461 390 432"
      ]
     },
     "metadata": {},
     "output_type": "display_data"
    }
   ],
   "source": [
    "data(AirPassengers)  # load the data set\n",
    "AP <- AirPassengers  # save data set to variable\n",
    "class(AP)  # see what class AP is\n",
    "AP # Have a look at the data set"
   ]
  },
  {
   "cell_type": "markdown",
   "metadata": {},
   "source": [
    "Since this is a time series, or ts, class object, we have some useful methods available to us. A few examples are the start(), end(), and frequency() methods:"
   ]
  },
  {
   "cell_type": "code",
   "execution_count": 5,
   "metadata": {},
   "outputs": [
    {
     "data": {
      "text/html": [
       "<ol class=list-inline>\n",
       "\t<li>1949</li>\n",
       "\t<li>1</li>\n",
       "</ol>\n"
      ],
      "text/latex": [
       "\\begin{enumerate*}\n",
       "\\item 1949\n",
       "\\item 1\n",
       "\\end{enumerate*}\n"
      ],
      "text/markdown": [
       "1. 1949\n",
       "2. 1\n",
       "\n",
       "\n"
      ],
      "text/plain": [
       "[1] 1949    1"
      ]
     },
     "metadata": {},
     "output_type": "display_data"
    },
    {
     "data": {
      "text/html": [
       "<ol class=list-inline>\n",
       "\t<li>1960</li>\n",
       "\t<li>12</li>\n",
       "</ol>\n"
      ],
      "text/latex": [
       "\\begin{enumerate*}\n",
       "\\item 1960\n",
       "\\item 12\n",
       "\\end{enumerate*}\n"
      ],
      "text/markdown": [
       "1. 1960\n",
       "2. 12\n",
       "\n",
       "\n"
      ],
      "text/plain": [
       "[1] 1960   12"
      ]
     },
     "metadata": {},
     "output_type": "display_data"
    },
    {
     "data": {
      "text/html": [
       "12"
      ],
      "text/latex": [
       "12"
      ],
      "text/markdown": [
       "12"
      ],
      "text/plain": [
       "[1] 12"
      ]
     },
     "metadata": {},
     "output_type": "display_data"
    }
   ],
   "source": [
    "start(AP); end(AP); frequency(AP)\n"
   ]
  },
  {
   "cell_type": "markdown",
   "metadata": {},
   "source": [
    "We now know that this time series begins in January of 1949, ends in Decmber of 1960, and each record apears in monthly intervals."
   ]
  },
  {
   "cell_type": "markdown",
   "metadata": {},
   "source": [
    "One of the first tests to employ with any time series analysis is that of the *Interoccular Trauma Examination*, or simply *looking* at a plot of the data:"
   ]
  },
  {
   "cell_type": "code",
   "execution_count": 7,
   "metadata": {},
   "outputs": [
    {
     "data": {
      "image/png": "[encoded data removed]",
      "text/plain": [
       "plot without title"
      ]
     },
     "metadata": {},
     "output_type": "display_data"
    }
   ],
   "source": [
    "plot(AP, ylab = \"Passengers (1000's)\")"
   ]
  },
  {
   "cell_type": "markdown",
   "metadata": {},
   "source": [
    "A few things to note about this plot:\n",
    "\n",
    "+ The number of passengers on the airline is going up\n",
    "+ There appears to be a pattern within each year\n",
    "\n",
    "The first observation, a systematic change in a time series that doesn't seem periodic is called a *trend*. The second is a *seasonal variation* and is a pattern that repeats within a fixed period (hence it seems periodic). This seasonal variation may be removed by aggregating the data to a different level. Here we aggregate to the annual level to remove the periodic observation with the aggregate() function:"
   ]
  },
  {
   "cell_type": "code",
   "execution_count": 8,
   "metadata": {},
   "outputs": [
    {
     "data": {
      "image/png": "[encoded data removed]",
      "text/plain": [
       "plot without title"
      ]
     },
     "metadata": {},
     "output_type": "display_data"
    }
   ],
   "source": [
    "layout(1:2) # about to produce two graphics in one window, vector/matrix input for layout\n",
    "plot(aggregate(AP))  # show the time series aggregated to the annual level\n",
    "boxplot(AP ~ cycle(AP))  # summarize values of each seaon with boxplot, use cycle function toextract the seasons from each item of data"
   ]
  },
  {
   "cell_type": "markdown",
   "metadata": {},
   "source": [
    "We can see the growing trend in the top plot, and the seasonal effects in the boxplot."
   ]
  },
  {
   "cell_type": "code",
   "execution_count": null,
   "metadata": {},
   "outputs": [],
   "source": []
  }
 ],
 "metadata": {
  "anaconda-cloud": {},
  "kernelspec": {
   "display_name": "R",
   "language": "R",
   "name": "ir"
  },
  "language_info": {
   "codemirror_mode": "r",
   "file_extension": ".r",
   "mimetype": "text/x-r-source",
   "name": "R",
   "pygments_lexer": "r",
   "version": "3.4.3"
  }
 },
 "nbformat": 4,
 "nbformat_minor": 2
}
