{
 "cells": [
  {
   "cell_type": "markdown",
   "metadata": {},
   "source": [
    "# Time Series Analysis with R - Chapter 2\n",
    "\n",
    "### Cal Johnson\n",
    "#### Analytics Engineer\n",
    "#### AO AAE, USCC"
   ]
  },
  {
   "cell_type": "markdown",
   "metadata": {},
   "source": [
    "## Chapter 2 - Correlation\n",
    "\n",
    "*Covariance* is the linear association between two variables. Note that a linear association between two variables *does not imply one causes the other*.\n",
    "\n",
    "Exercising some correlation functions in R on a carbon monoxide and benzoapyrene doncentrations sample taken from Herald Square in Manhattan (Colucci and Begeman, 1971):"
   ]
  },
  {
   "cell_type": "code",
   "execution_count": 7,
   "metadata": {},
   "outputs": [
    {
     "name": "stderr",
     "output_type": "stream",
     "text": [
      "The following objects are masked from Herald.dat (pos = 3):\n",
      "\n",
      "    Benzoa, CO\n",
      "\n",
      "The following objects are masked from Herald.dat (pos = 4):\n",
      "\n",
      "    Benzoa, CO\n",
      "\n"
     ]
    }
   ],
   "source": [
    "# Bring in the data and attach it so we can \n",
    "www <- \"Herald.dat\"\n",
    "Herald.dat <- read.table(www, header = TRUE)\n",
    "attach(Herald.dat)"
   ]
  },
  {
   "cell_type": "markdown",
   "metadata": {},
   "source": [
    "### Calculating covariance in three ways:"
   ]
  },
  {
   "cell_type": "code",
   "execution_count": 10,
   "metadata": {},
   "outputs": [
    {
     "data": {
      "text/html": [
       "5.51104166666667"
      ],
      "text/latex": [
       "5.51104166666667"
      ],
      "text/markdown": [
       "5.51104166666667"
      ],
      "text/plain": [
       "[1] 5.511042"
      ]
     },
     "metadata": {},
     "output_type": "display_data"
    }
   ],
   "source": [
    "# First way, with n - 1\n",
    "x <- CO; y <- Benzoa; n <- length(x)\n",
    "sum((x - mean(x)) * (y - mean(y))/(n - 1))"
   ]
  },
  {
   "cell_type": "code",
   "execution_count": 11,
   "metadata": {},
   "outputs": [
    {
     "data": {
      "text/html": [
       "5.1666015625"
      ],
      "text/latex": [
       "5.1666015625"
      ],
      "text/markdown": [
       "5.1666015625"
      ],
      "text/plain": [
       "[1] 5.166602"
      ]
     },
     "metadata": {},
     "output_type": "display_data"
    }
   ],
   "source": [
    "# Second way, with n\n",
    "mean((x - mean(x)) * (y - mean(y)))"
   ]
  },
  {
   "cell_type": "code",
   "execution_count": 12,
   "metadata": {},
   "outputs": [
    {
     "data": {
      "text/html": [
       "5.51104166666667"
      ],
      "text/latex": [
       "5.51104166666667"
      ],
      "text/markdown": [
       "5.51104166666667"
      ],
      "text/plain": [
       "[1] 5.511042"
      ]
     },
     "metadata": {},
     "output_type": "display_data"
    }
   ],
   "source": [
    "# Third way, with cov() function\n",
    "cov(x,y)"
   ]
  },
  {
   "cell_type": "markdown",
   "metadata": {},
   "source": [
    "Note that the second example for calculating covariance is the definition of the expectation of covariance.\n",
    "\n",
    "Also, think about the difference in the above methods for calculating covariance and the denominators (*n* versus *n-1*). As *n* becomes larger, the results of both will asymptotically approach the same value (or, asymptotically approach the unbiased estimate, as the text says)."
   ]
  },
  {
   "cell_type": "markdown",
   "metadata": {},
   "source": [
    "*Correlation* is the measure of linear association between two variables and is obtained by standardizing the covariance by dividing it by the standard deviations of the variables."
   ]
  },
  {
   "cell_type": "code",
   "execution_count": null,
   "metadata": {},
   "outputs": [],
   "source": []
  }
 ],
 "metadata": {
  "kernelspec": {
   "display_name": "R",
   "language": "R",
   "name": "ir"
  },
  "language_info": {
   "codemirror_mode": "r",
   "file_extension": ".r",
   "mimetype": "text/x-r-source",
   "name": "R",
   "pygments_lexer": "r",
   "version": "3.4.3"
  }
 },
 "nbformat": 4,
 "nbformat_minor": 2
}
