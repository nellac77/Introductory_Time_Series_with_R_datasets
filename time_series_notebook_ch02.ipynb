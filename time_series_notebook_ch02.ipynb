{
 "cells": [
  {
   "cell_type": "markdown",
   "metadata": {},
   "source": [
    "# Time Series Analysis with R - Chapter 2\n",
    "\n",
    "### Cal Johnson\n",
    "#### Analytics Engineer\n",
    "#### AO AAE, USCC"
   ]
  },
  {
   "cell_type": "markdown",
   "metadata": {},
   "source": [
    "## Chapter 2 - Correlation\n",
    "\n",
    "*Covariance* is the linear association between two variables. Note that a linear association between two variables *does not imply one causes the other*.\n",
    "\n",
    "Exercising some correlation functions in R on a carbon monoxide and benzoapyrene doncentrations sample taken from Herald Square in Manhattan (Colucci and Begeman, 1971):"
   ]
  },
  {
   "cell_type": "code",
   "execution_count": 3,
   "metadata": {},
   "outputs": [],
   "source": [
    "# Bring in the data and attach it so we can \n",
    "www <- \"Herald.dat\"\n",
    "Herald.dat <- read.table(www, header = TRUE)\n",
    "attach(Herald.dat)"
   ]
  },
  {
   "cell_type": "markdown",
   "metadata": {},
   "source": [
    "### Calculating covariance in three ways:"
   ]
  },
  {
   "cell_type": "code",
   "execution_count": 4,
   "metadata": {},
   "outputs": [
    {
     "data": {
      "text/html": [
       "5.51104166666667"
      ],
      "text/latex": [
       "5.51104166666667"
      ],
      "text/markdown": [
       "5.51104166666667"
      ],
      "text/plain": [
       "[1] 5.511042"
      ]
     },
     "metadata": {},
     "output_type": "display_data"
    }
   ],
   "source": [
    "# First way, with n - 1\n",
    "x <- CO; y <- Benzoa; n <- length(x)\n",
    "sum((x - mean(x)) * (y - mean(y))/(n - 1))"
   ]
  },
  {
   "cell_type": "code",
   "execution_count": 5,
   "metadata": {},
   "outputs": [
    {
     "data": {
      "text/html": [
       "5.1666015625"
      ],
      "text/latex": [
       "5.1666015625"
      ],
      "text/markdown": [
       "5.1666015625"
      ],
      "text/plain": [
       "[1] 5.166602"
      ]
     },
     "metadata": {},
     "output_type": "display_data"
    }
   ],
   "source": [
    "# Second way, with n\n",
    "mean((x - mean(x)) * (y - mean(y)))"
   ]
  },
  {
   "cell_type": "code",
   "execution_count": 6,
   "metadata": {},
   "outputs": [
    {
     "data": {
      "text/html": [
       "5.51104166666667"
      ],
      "text/latex": [
       "5.51104166666667"
      ],
      "text/markdown": [
       "5.51104166666667"
      ],
      "text/plain": [
       "[1] 5.511042"
      ]
     },
     "metadata": {},
     "output_type": "display_data"
    }
   ],
   "source": [
    "# Third way, with cov() function\n",
    "cov(x,y)"
   ]
  },
  {
   "cell_type": "markdown",
   "metadata": {},
   "source": [
    "Note that the second example for calculating covariance is the definition of the expectation of covariance.\n",
    "\n",
    "Also, think about the difference in the above methods for calculating covariance and the denominators (*n* versus *n-1*). As *n* becomes larger, the results of both will asymptotically approach the same value (or, asymptotically approach the unbiased estimate, as the text says)."
   ]
  },
  {
   "cell_type": "markdown",
   "metadata": {},
   "source": [
    "*Correlation* is the measure of linear association between two variables and is obtained by standardizing the covariance by dividing it by the standard deviations of the variables."
   ]
  },
  {
   "cell_type": "code",
   "execution_count": 8,
   "metadata": {},
   "outputs": [
    {
     "data": {
      "text/html": [
       "0.355097309808543"
      ],
      "text/latex": [
       "0.355097309808543"
      ],
      "text/markdown": [
       "0.355097309808543"
      ],
      "text/plain": [
       "[1] 0.3550973"
      ]
     },
     "metadata": {},
     "output_type": "display_data"
    }
   ],
   "source": [
    "# The correlation between CO and benzoapyrene measurements at Herald Square\n",
    "# from definition and from cor() function:\n",
    "cov(x,y) / (sd(x)*sd(y))"
   ]
  },
  {
   "cell_type": "code",
   "execution_count": 11,
   "metadata": {},
   "outputs": [
    {
     "data": {
      "text/html": [
       "0.355097309808543"
      ],
      "text/latex": [
       "0.355097309808543"
      ],
      "text/markdown": [
       "0.355097309808543"
      ],
      "text/plain": [
       "[1] 0.3550973"
      ]
     },
     "metadata": {},
     "output_type": "display_data"
    }
   ],
   "source": [
    "cor(x,y)"
   ]
  },
  {
   "cell_type": "markdown",
   "metadata": {},
   "source": [
    "### Ensemble and Stationary\n",
    "\n",
    "Interestingly enough, the mean function of a time series model is a function of time (go figure), and is described as:\n",
    "\n",
    "u(t) = E(x_t)\n",
    "\n",
    "It turns out that the expectation of this is the average across the *ensemble* of all possible time series that could be produced by the model, and the ensemble is the entire population. This implies simulating more than one time series with a single time series model.\n",
    "\n",
    "Estimates can be made for the apparent trend and seasonal effects and then removed, using the decompose() function, to get the time series of the random component. This opens up constant mean time series models to be used.\n",
    "\n",
    "If the mean function is constant, the we say the model is *stationary* in the mean (*duh!*).\n",
    "\n",
    "If the mean of the time average for a single series tends towards the ensembe mean as time marches on, and is stationary in the mean, then we say the mean is *ergodic*, or time average is independent of the starting point."
   ]
  },
  {
   "cell_type": "code",
   "execution_count": null,
   "metadata": {},
   "outputs": [],
   "source": []
  }
 ],
 "metadata": {
  "kernelspec": {
   "display_name": "R",
   "language": "R",
   "name": "ir"
  }
 },
 "nbformat": 4,
 "nbformat_minor": 2
}
